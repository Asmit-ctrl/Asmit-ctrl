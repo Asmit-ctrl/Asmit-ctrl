{
  "nbformat": 4,
  "nbformat_minor": 0,
  "metadata": {
    "colab": {
      "provenance": [],
      "toc_visible": true,
      "authorship_tag": "ABX9TyPfwacRipQ7xpTSG7889b5H"
    },
    "kernelspec": {
      "name": "python3",
      "display_name": "Python 3"
    },
    "language_info": {
      "name": "python"
    }
  },
  "cells": [
    {
      "cell_type": "code",
      "source": [
        "result = 10 / 3\n",
        "a = 10 // 3\n",
        "b = 10 % 3\n",
        "print(result, a, b)\n",
        "print(\"result :\", a + b)"
      ],
      "metadata": {
        "colab": {
          "base_uri": "https://localhost:8080/"
        },
        "id": "U7OJqOPt7Una",
        "outputId": "6ea5be14-fc7e-4bf2-c198-7a7e6ff1452f"
      },
      "execution_count": 2,
      "outputs": [
        {
          "output_type": "stream",
          "name": "stdout",
          "text": [
            "3.3333333333333335 3 1\n",
            "result : 4\n"
          ]
        }
      ]
    },
    {
      "cell_type": "code",
      "source": [
        "#slicing\n",
        "print(\"Python\"[1:6:-1])"
      ],
      "metadata": {
        "colab": {
          "base_uri": "https://localhost:8080/"
        },
        "id": "bWQ0Xl8i7zZd",
        "outputId": "25a9c14c-2667-47bb-91ae-fd91c3b4ced8"
      },
      "execution_count": 10,
      "outputs": [
        {
          "output_type": "stream",
          "name": "stdout",
          "text": [
            "\n"
          ]
        }
      ]
    },
    {
      "cell_type": "code",
      "source": [
        "print(\"Python\"[5:0:-1])#bro slicing h ye pura print nahi hoga"
      ],
      "metadata": {
        "colab": {
          "base_uri": "https://localhost:8080/"
        },
        "id": "debPCsDv9WhM",
        "outputId": "c74c6127-a456-4f7b-bb07-9b5407417fe1"
      },
      "execution_count": 21,
      "outputs": [
        {
          "output_type": "stream",
          "name": "stdout",
          "text": [
            "nohty\n"
          ]
        }
      ]
    },
    {
      "cell_type": "code",
      "source": [
        "b = \"Hello, World!\"\n",
        "print(b[:5])\n",
        "b = \"Hello, World!\"\n",
        "print(b[2:])\n",
        "b = \"Hello, World!\"\n",
        "print(b[-5:-4])"
      ],
      "metadata": {
        "colab": {
          "base_uri": "https://localhost:8080/"
        },
        "id": "syR1M8-9_c7f",
        "outputId": "f2736d1a-38b1-4f0d-b9a6-06d219fe9b04"
      },
      "execution_count": 22,
      "outputs": [
        {
          "output_type": "stream",
          "name": "stdout",
          "text": [
            "Hello\n",
            "llo, World!\n",
            "o\n"
          ]
        }
      ]
    },
    {
      "cell_type": "code",
      "source": [
        "b = \"Hello, World!\"\n",
        "print(b[2:5])"
      ],
      "metadata": {
        "colab": {
          "base_uri": "https://localhost:8080/"
        },
        "id": "iDQzAZkl8Mn4",
        "outputId": "484b492c-a9dd-4a86-8185-9549d6577cbd"
      },
      "execution_count": 6,
      "outputs": [
        {
          "output_type": "stream",
          "name": "stdout",
          "text": [
            "llo\n"
          ]
        }
      ]
    },
    {
      "cell_type": "code",
      "source": [
        "# Version\n",
        "import sys\n",
        "print(sys.version)\n",
        "f = [\"a\", \"b\", \"c\"]\n",
        "x, y, z = f\n",
        "print(x)\n",
        "print(y)\n",
        "print(z)"
      ],
      "metadata": {
        "colab": {
          "base_uri": "https://localhost:8080/"
        },
        "id": "wr7n1aOu_nyu",
        "outputId": "589dec37-74d3-415f-c8bf-62f49364483a"
      },
      "execution_count": 23,
      "outputs": [
        {
          "output_type": "stream",
          "name": "stdout",
          "text": [
            "3.10.12 (main, Nov  6 2024, 20:22:13) [GCC 11.4.0]\n",
            "a\n",
            "b\n",
            "c\n"
          ]
        }
      ]
    },
    {
      "cell_type": "code",
      "source": [
        "# global viable\n",
        "x = \"awesome\"\n",
        "def myfunc():\n",
        " x = \"fantastic\"\n",
        " print(\"Python is \" + x)\n",
        "myfunc()\n",
        "print(\"Python is \" + x)\n"
      ],
      "metadata": {
        "colab": {
          "base_uri": "https://localhost:8080/"
        },
        "id": "dJGkTcgf_2qB",
        "outputId": "22303d01-6857-456a-f376-594948081ebd"
      },
      "execution_count": 24,
      "outputs": [
        {
          "output_type": "stream",
          "name": "stdout",
          "text": [
            "Python is fantastic\n",
            "Python is awesome\n"
          ]
        }
      ]
    },
    {
      "cell_type": "code",
      "source": [
        "# use global key word\n",
        "def myfunc1():\n",
        " global x\n",
        " x = \"fantastic\"\n",
        "myfunc1()\n",
        "print(\"Python is \" + x)"
      ],
      "metadata": {
        "colab": {
          "base_uri": "https://localhost:8080/"
        },
        "id": "0OvhVMezAYU1",
        "outputId": "79ff7f3d-9f7a-48a2-934c-d489f0f5680f"
      },
      "execution_count": 26,
      "outputs": [
        {
          "output_type": "stream",
          "name": "stdout",
          "text": [
            "Python is fantastic\n"
          ]
        }
      ]
    },
    {
      "cell_type": "code",
      "source": [
        "# Chance global variable value\n",
        "x = \"awesome\"\n",
        "def myfunc2():\n",
        " global x\n",
        " x = \"fantastic\"\n",
        "myfunc2()\n",
        "print(\"Python is \" + x)"
      ],
      "metadata": {
        "colab": {
          "base_uri": "https://localhost:8080/"
        },
        "id": "QHm6-CiQAs1o",
        "outputId": "9fef4345-dd9c-4ec6-a4bb-16a372ced9f6"
      },
      "execution_count": 27,
      "outputs": [
        {
          "output_type": "stream",
          "name": "stdout",
          "text": [
            "Python is fantastic\n"
          ]
        }
      ]
    },
    {
      "cell_type": "code",
      "source": [
        "# complex number\n",
        "x = complex(1j)\n",
        "z = complex(2)\n",
        "print(x) # 1j\n",
        "print(z) # (2+0j)"
      ],
      "metadata": {
        "colab": {
          "base_uri": "https://localhost:8080/"
        },
        "id": "LlAait5WBAVk",
        "outputId": "26113d40-2601-4935-ff12-22dd30eb8994"
      },
      "execution_count": 28,
      "outputs": [
        {
          "output_type": "stream",
          "name": "stdout",
          "text": [
            "1j\n",
            "(2+0j)\n"
          ]
        }
      ]
    },
    {
      "cell_type": "code",
      "source": [
        "# Multiline Strings use also multiline comment\n",
        "a = \"\"\"Lorem ipsum dolor sit amet,\n",
        "consectetur adipiscing elit,\n",
        "sed do eiusmod tempor incididunt\n",
        "ut labore et dolore magna aliqua.\"\"\"\n",
        "print(a)"
      ],
      "metadata": {
        "colab": {
          "base_uri": "https://localhost:8080/"
        },
        "id": "c-W4DVGEBnv4",
        "outputId": "1e8b7ad7-53f5-4937-ac76-fa0056394474"
      },
      "execution_count": 29,
      "outputs": [
        {
          "output_type": "stream",
          "name": "stdout",
          "text": [
            "Lorem ipsum dolor sit amet,\n",
            "consectetur adipiscing elit,\n",
            "sed do eiusmod tempor incididunt\n",
            "ut labore et dolore magna aliqua.\n"
          ]
        }
      ]
    },
    {
      "cell_type": "code",
      "source": [
        "# Strings are Arrays\n",
        "a = \"Hello, World!\"\n",
        "print(a[1])\n",
        "# Checking string\n",
        "txt = \"The best things in life are free!\"\n",
        "print(\"free\" in txt)\n",
        "x = (\"apple\", \"banana\", \"cherry\")\n",
        "print(x)\n",
        "print(10, 20, 30,sep=' - ')\n",
        "print (\"GeeksForGeeks is the best platform for DSA content\", end= \"**\")\n",
        "print(\"Welcome to GFG\")\n",
        "sourceFile = open('python.txt', 'w')\n",
        "print('Pretty cool, huh!', file = sourceFile)\n",
        "sourceFile.close()"
      ],
      "metadata": {
        "colab": {
          "base_uri": "https://localhost:8080/"
        },
        "id": "WA-Trqo4BygT",
        "outputId": "7b9fa041-1114-4486-cd7d-5b8fdc7f7b05"
      },
      "execution_count": 31,
      "outputs": [
        {
          "output_type": "stream",
          "name": "stdout",
          "text": [
            "e\n",
            "True\n",
            "('apple', 'banana', 'cherry')\n",
            "10 - 20 - 30\n",
            "GeeksForGeeks is the best platform for DSA content**Welcome to GFG\n"
          ]
        }
      ]
    },
    {
      "cell_type": "code",
      "source": [
        "# String function\n",
        "a = \"Hello, World!\"\n",
        "print(a.upper())\n",
        "print(a.lower())\n",
        "print(\"hi\".upper())\n",
        "b = \" Hello, World! \"\n",
        "print(b.strip())\n",
        "print(a.replace(\"o\", \"z\"))\n",
        "print(a.split(\",\"))\n"
      ],
      "metadata": {
        "colab": {
          "base_uri": "https://localhost:8080/"
        },
        "id": "M38nqh9lCUj0",
        "outputId": "fc39aa73-c829-4f67-d407-15cb8e7ed256"
      },
      "execution_count": 32,
      "outputs": [
        {
          "output_type": "stream",
          "name": "stdout",
          "text": [
            "HELLO, WORLD!\n",
            "hello, world!\n",
            "HI\n",
            "Hello, World!\n",
            "Hellz, Wzrld!\n",
            "['Hello', ' World!']\n"
          ]
        }
      ]
    },
    {
      "cell_type": "code",
      "source": [
        "# Format string use f then string and varible in {} also call Placeholders\n",
        "# Placeholders use in any where in f-string\n",
        "age = 36\n",
        "txt = f\"My name is John, I am {age}\"\n",
        "print(txt)\n",
        "print(f\"HI I am {age} year old\")\n",
        "print(f\"HI I am {age: .2f} year old\")\n",
        "print(f\"TWO NUMBER ADDITION IS: {2+2}\")\n",
        "# print(\"He is called \"Johnny\"\") provide error\n",
        "print(\"He is called 'Johnny'\")\n",
        "print(\"He is called \\\"Johnny\\\"\")\n",
        "#print('It's alright.') provide error\n",
        "print('It\\'s alright.')\n",
        "print(\"Hello\\nWorld!\")\n",
        "print(\"Hello\\tWorld!\")\n",
        "# isinstance like bool\n",
        "x = '200'\n",
        "print(isinstance(x, str))\n",
        "# in and not in\n",
        "x = [\"apple\", \"banana\"]\n",
        "print(\"banana\" in x)\n",
        "# and, or, xor and not Bitwise Operators\n",
        "print(1&1, 1|0, 1^0, ~0)\n",
        "# tuple basic (\"a\") is string (\"a\",) is tuple\n",
        "t = (\"apple\",)\n",
        "print(type(t))"
      ],
      "metadata": {
        "colab": {
          "base_uri": "https://localhost:8080/"
        },
        "id": "5NR_s0PqC4ta",
        "outputId": "aa7945ab-2229-42af-bcd4-58ef87442ccf"
      },
      "execution_count": 33,
      "outputs": [
        {
          "output_type": "stream",
          "name": "stdout",
          "text": [
            "My name is John, I am 36\n",
            "HI I am 36 year old\n",
            "HI I am  36.00 year old\n",
            "TWO NUMBER ADDITION IS: 4\n",
            "He is called 'Johnny'\n",
            "He is called \"Johnny\"\n",
            "It's alright.\n",
            "Hello\n",
            "World!\n",
            "Hello\tWorld!\n",
            "True\n",
            "True\n",
            "1 1 1 -1\n",
            "<class 'tuple'>\n"
          ]
        }
      ]
    },
    {
      "cell_type": "code",
      "source": [
        "#if else\n",
        "#elif:if the previous conditions were not true, then try this condition\n",
        "a = 34\n",
        "b = 33\n",
        "if b > a:\n",
        " print(\"b is greater than a\")#kuch print nahi hoga\n",
        "elif a == b:\n",
        " print(\"a and b are equal\")\n",
        "\n",
        "\n",
        "\n",
        "a = 200\n",
        "b = 33\n",
        "if b > a:\n",
        " print(\"b is greater than a\")\n",
        "elif a == b:\n",
        " print(\"a and b are equal\")\n",
        "else:\n",
        " print(\"a is greater than b\")\n",
        "\n",
        "\n",
        "\n",
        "a = 200\n",
        "b = 33\n",
        "if b > a:\n",
        " print(\"b is greater than a\")\n",
        "else:\n",
        " print(\"b is not greater than a\")\n",
        "\n",
        "\n",
        "\n",
        "#short hand if else\n",
        "a = 2\n",
        "b = 330\n",
        "if a > b: print(\"a is greater than b\")\n",
        "#Ternary Operators, or Conditional Expressions.\n",
        "print(\"A\") if(a > b) else print(\"=\") if(a==b) else print(\"B\")"
      ],
      "metadata": {
        "colab": {
          "base_uri": "https://localhost:8080/"
        },
        "id": "5GUCXwBAEE8d",
        "outputId": "dbf494a8-b448-45ec-aebb-d75d8101ceec"
      },
      "execution_count": 39,
      "outputs": [
        {
          "output_type": "stream",
          "name": "stdout",
          "text": [
            "a is greater than b\n",
            "b is not greater than a\n",
            "B\n"
          ]
        }
      ]
    },
    {
      "cell_type": "code",
      "source": [
        "\n",
        "# and or not\n",
        "a = 200\n",
        "b = 33\n",
        "c = 500\n",
        "if a > b and c > a:\n",
        " print(\"Both conditions are True\")\n",
        "if a > b or c > a:\n",
        " print(\"any one condition is True\")\n",
        "if not a > b:\n",
        " print(\"NOt\")"
      ],
      "metadata": {
        "colab": {
          "base_uri": "https://localhost:8080/"
        },
        "id": "ogKtKqKIHLYI",
        "outputId": "c96d6d6f-e42a-45da-8673-954b1ec59e03"
      },
      "execution_count": 38,
      "outputs": [
        {
          "output_type": "stream",
          "name": "stdout",
          "text": [
            "B\n",
            "Both conditions are True\n",
            "any one condition is True\n"
          ]
        }
      ]
    },
    {
      "cell_type": "code",
      "source": [
        "# Nested if\n",
        "x = 41\n",
        "if x > 10:\n",
        " print(\"Above ten,\")\n",
        " if x > 20:\n",
        "  print(\"and also above 20!\")\n",
        " else:\n",
        "  print(\"but not above 20.\")\n",
        "else:\n",
        " print(\"OK\")"
      ],
      "metadata": {
        "colab": {
          "base_uri": "https://localhost:8080/"
        },
        "id": "YjEULW5gHiD1",
        "outputId": "c0fc5b98-9990-46a4-cc83-2b957b679efc"
      },
      "execution_count": 43,
      "outputs": [
        {
          "output_type": "stream",
          "name": "stdout",
          "text": [
            "Above ten,\n",
            "and also above 20!\n"
          ]
        }
      ]
    },
    {
      "cell_type": "code",
      "source": [
        "# pass statement\n",
        "a = 33\n",
        "b = 200\n",
        "if b > a:\n",
        " pass"
      ],
      "metadata": {
        "id": "B7FTrDYkIBEU"
      },
      "execution_count": 46,
      "outputs": []
    },
    {
      "cell_type": "code",
      "source": [
        "# Drived data type\n",
        "# List items are ordered, changeable, allow duplicate values and indexed.\n",
        "# A List can contain diƯerent data types\n",
        "print([\"abc\", 34, True, 40, \"male\"])\n",
        "# A tuple is ordered, indexed, allow duplicate and unchangeable.\n",
        "tuple1 = (1, 2, 33, 44, 6)\n",
        "tuple1[4] = 10\n",
        "\n",
        "\n"
      ],
      "metadata": {
        "colab": {
          "base_uri": "https://localhost:8080/",
          "height": 228
        },
        "id": "cUuuoI4UILhQ",
        "outputId": "7c5c1def-1196-4c7a-84d7-b3df3d4f9b0a"
      },
      "execution_count": 48,
      "outputs": [
        {
          "output_type": "stream",
          "name": "stdout",
          "text": [
            "['abc', 34, True, 40, 'male']\n"
          ]
        },
        {
          "output_type": "error",
          "ename": "TypeError",
          "evalue": "'tuple' object does not support item assignment",
          "traceback": [
            "\u001b[0;31m---------------------------------------------------------------------------\u001b[0m",
            "\u001b[0;31mTypeError\u001b[0m                                 Traceback (most recent call last)",
            "\u001b[0;32m<ipython-input-48-dbbfabb3aba4>\u001b[0m in \u001b[0;36m<cell line: 7>\u001b[0;34m()\u001b[0m\n\u001b[1;32m      5\u001b[0m \u001b[0;31m# A tuple is ordered, indexed, allow duplicate and unchangeable.\u001b[0m\u001b[0;34m\u001b[0m\u001b[0;34m\u001b[0m\u001b[0m\n\u001b[1;32m      6\u001b[0m \u001b[0mtuple1\u001b[0m \u001b[0;34m=\u001b[0m \u001b[0;34m(\u001b[0m\u001b[0;36m1\u001b[0m\u001b[0;34m,\u001b[0m \u001b[0;36m2\u001b[0m\u001b[0;34m,\u001b[0m \u001b[0;36m33\u001b[0m\u001b[0;34m,\u001b[0m \u001b[0;36m44\u001b[0m\u001b[0;34m,\u001b[0m \u001b[0;36m6\u001b[0m\u001b[0;34m)\u001b[0m\u001b[0;34m\u001b[0m\u001b[0;34m\u001b[0m\u001b[0m\n\u001b[0;32m----> 7\u001b[0;31m \u001b[0mtuple1\u001b[0m\u001b[0;34m[\u001b[0m\u001b[0;36m4\u001b[0m\u001b[0;34m]\u001b[0m \u001b[0;34m=\u001b[0m \u001b[0;36m10\u001b[0m\u001b[0;34m\u001b[0m\u001b[0;34m\u001b[0m\u001b[0m\n\u001b[0m\u001b[1;32m      8\u001b[0m \u001b[0;31m#Tuple with one item\u001b[0m\u001b[0;34m\u001b[0m\u001b[0;34m\u001b[0m\u001b[0m\n\u001b[1;32m      9\u001b[0m \u001b[0mthistuple\u001b[0m \u001b[0;34m=\u001b[0m \u001b[0;34m(\u001b[0m\u001b[0;34m\"apple\"\u001b[0m\u001b[0;34m,\u001b[0m\u001b[0;34m)\u001b[0m\u001b[0;34m\u001b[0m\u001b[0;34m\u001b[0m\u001b[0m\n",
            "\u001b[0;31mTypeError\u001b[0m: 'tuple' object does not support item assignment"
          ]
        }
      ]
    },
    {
      "cell_type": "code",
      "source": [
        "#Tuple with one item\n",
        "thistuple = (\"apple\",)\n",
        "print(type(thistuple))\n",
        "#NOT a tuple\n",
        "thistuple = (\"apple\")\n",
        "print(type(thistuple))\n",
        "# A tuple can contain diƯerent data types\n",
        "print((\"abc\", 34, True, 40, \"male\"))\n",
        "# A set is an unordered, unchangeable,not allow duplicate and unindexed.\n",
        "# True and Flase same as 1 and 0\n",
        "a = {\"apple\", \"banana\", \"cherry\", True, 1, 2,0, False}\n",
        "print(a)\n",
        "# A dictionary ordered, changeable, any data type and do not allow duplicates.\n",
        "t = {\"brand\": \"Ford\",\"year\": 1964,\"year\": 2020}\n",
        "print(t)\n",
        "th = {\"brand\": \"Ford\",\"electric\": False,\"year\": 1964,\n",
        "\"colors\": [\"red\", \"white\", \"blue\"]}\n",
        "print(th)"
      ],
      "metadata": {
        "colab": {
          "base_uri": "https://localhost:8080/"
        },
        "id": "tzFh8czGJZh_",
        "outputId": "131c29f8-d21b-4a64-c7c5-4163b279a7d6"
      },
      "execution_count": 49,
      "outputs": [
        {
          "output_type": "stream",
          "name": "stdout",
          "text": [
            "<class 'tuple'>\n",
            "<class 'str'>\n",
            "('abc', 34, True, 40, 'male')\n",
            "{0, 'banana', 2, True, 'apple', 'cherry'}\n",
            "{'brand': 'Ford', 'year': 2020}\n",
            "{'brand': 'Ford', 'electric': False, 'year': 1964, 'colors': ['red', 'white', 'blue']}\n"
          ]
        }
      ]
    },
    {
      "cell_type": "code",
      "source": [
        "# List with Range\n",
        "t = [\"apple\", \"banana\", \"cherry\", \"orange\", \"kiwi\", \"melon\", \"mango\"]\n",
        "print(t[-4:-1]) # -1 not include\n",
        "# index start with 0 not include last index value\n",
        "t = [\"apple\", \"banana\", \"cherry\", \"orange\", \"kiwi\", \"melon\", \"mango\"]\n",
        "print(t[2:5])\n",
        "t = [\"apple\", \"banana\", \"cherry\", \"orange\", \"kiwi\", \"melon\", \"mango\"]\n",
        "print(t[:4])\n",
        "t = [\"apple\", \"banana\", \"cherry\", \"orange\", \"kiwi\", \"melon\", \"mango\"]\n",
        "print(t[2:])\n",
        "# Change a Range of Item\n",
        "t = [\"apple\", \"banana\", \"cherry\", \"orange\", \"kiwi\", \"mango\"]\n",
        "t[1:3] = [\"blackcurrant\", \"watermelon\"]\n",
        "print(t)"
      ],
      "metadata": {
        "colab": {
          "base_uri": "https://localhost:8080/"
        },
        "id": "PYoFm7yQKPOM",
        "outputId": "ee8f96d2-1e88-440e-a838-9c5c1b10e282"
      },
      "execution_count": 50,
      "outputs": [
        {
          "output_type": "stream",
          "name": "stdout",
          "text": [
            "['orange', 'kiwi', 'melon']\n",
            "['cherry', 'orange', 'kiwi']\n",
            "['apple', 'banana', 'cherry', 'orange']\n",
            "['cherry', 'orange', 'kiwi', 'melon', 'mango']\n",
            "['apple', 'blackcurrant', 'watermelon', 'orange', 'kiwi', 'mango']\n"
          ]
        }
      ]
    },
    {
      "cell_type": "code",
      "source": [
        "# If you insert more items than you replace, the new items will\n",
        "# be inserted where you specified, and the remaining items will move accordingly\n",
        "t = [\"apple\", \"banana\", \"cherry\"]\n",
        "t[1:2] = [\"blackcurrant\", \"watermelon\"]\n",
        "print(t)\n",
        "t = [\"apple\", \"banana\", \"cherry\"]\n",
        "t[1:3] = [\"watermelon\"]\n",
        "print(t)\n",
        "# Insert Item\n",
        "t = [\"apple\", \"banana\", \"cherry\"]\n",
        "t.insert(2, \"watermelon\")\n",
        "print(t)"
      ],
      "metadata": {
        "colab": {
          "base_uri": "https://localhost:8080/"
        },
        "id": "VmAasAUrKkF-",
        "outputId": "aa534586-28a0-4490-ea7d-bebe4b7ba03e"
      },
      "execution_count": 51,
      "outputs": [
        {
          "output_type": "stream",
          "name": "stdout",
          "text": [
            "['apple', 'blackcurrant', 'watermelon', 'cherry']\n",
            "['apple', 'watermelon']\n",
            "['apple', 'banana', 'watermelon', 'cherry']\n"
          ]
        }
      ]
    },
    {
      "cell_type": "code",
      "source": [
        "# Append Items\n",
        "t = [\"apple\", \"banana\", \"cherry\"]\n",
        "t.append(\"orange\")\n",
        "print(t)\n",
        "# Extend List\n",
        "t = [\"apple\", \"banana\", \"cherry\"]\n",
        "t1 = [\"mango\", \"pineapple\", \"papaya\"]\n",
        "t.extend(t1)\n",
        "print(t)\n",
        "# add any iterable object (tuples, sets, dictionaries etc.)\n",
        "t = [\"apple\", \"banana\", \"cherry\"]\n",
        "tp = (\"kiwi\", \"orange\")\n",
        "t.extend(tp)\n",
        "print(t)\n",
        "# Remove item\n",
        "t = [\"apple\", \"banana\", \"cherry\", \"banana\", \"kiwi\"]\n",
        "t.remove(\"banana\")\n",
        "print(t) # only remove Ist occurance\n",
        "# Remove Specified Index\n",
        "t = [\"apple\", \"banana\", \"cherry\"]\n",
        "t.pop(1)\n",
        "print(t)\n",
        "t = [\"apple\", \"banana\", \"cherry\"]\n",
        "t.pop()\n",
        "print(t) # Remove last item\n",
        "# del also delete item\n",
        "t = [\"apple\", \"banana\", \"cherry\"]\n",
        "del t[0] #Example, you need to specify an index\n",
        "print(t)\n",
        "t = [\"apple\", \"banana\", \"cherry\"]\n",
        "del t # complete list\n",
        "# clear list\n",
        "t = [\"apple\", \"banana\", \"cherry\"]\n",
        "t.clear()\n",
        "print(t)"
      ],
      "metadata": {
        "colab": {
          "base_uri": "https://localhost:8080/"
        },
        "id": "5haZuq5qLNpw",
        "outputId": "7efc16c6-7a13-4ad4-ebda-4cf30dd1d6ce"
      },
      "execution_count": 56,
      "outputs": [
        {
          "output_type": "stream",
          "name": "stdout",
          "text": [
            "['apple', 'banana', 'cherry', 'orange']\n",
            "['apple', 'banana', 'cherry', 'mango', 'pineapple', 'papaya']\n",
            "['apple', 'banana', 'cherry', 'kiwi', 'orange']\n",
            "['apple', 'cherry', 'banana', 'kiwi']\n",
            "['apple', 'cherry']\n",
            "['apple', 'banana']\n",
            "['banana', 'cherry']\n",
            "[]\n"
          ]
        }
      ]
    },
    {
      "cell_type": "code",
      "source": [
        "# diƯerence() method\n",
        "# return a new set that will contain only the items from the ﬁrst set\n",
        "# that are not present in the other set.\n",
        "set1 = {\"apple\", \"banana\", \"cherry\"}\n",
        "set2 = {\"google\", \"microsoft\", \"apple\"}\n",
        "set3 = set1.difference(set2)\n",
        "set4 = set1 - set2\n",
        "print(set3)\n",
        "print(set4)"
      ],
      "metadata": {
        "colab": {
          "base_uri": "https://localhost:8080/"
        },
        "id": "OgLlNB8WMlxL",
        "outputId": "8e28ead0-68c2-44ff-cf00-c5bbbe85bf7a"
      },
      "execution_count": 60,
      "outputs": [
        {
          "output_type": "stream",
          "name": "stdout",
          "text": [
            "{'banana', 'cherry'}\n",
            "{'banana', 'cherry'}\n"
          ]
        }
      ]
    },
    {
      "cell_type": "code",
      "source": [
        "# - operator only allows you to join sets with sets, and not with other data types\n",
        "# diƯerence_update method will also keep the items from the ﬁrst set\n",
        "# that are not in the other set, but it will change the original set\n",
        "# instead of returning a new set.\n",
        "# OR we can say: keep the items that are not present in both sets\n",
        "set1 = {\"apple\", \"banana\", \"cherry\"}\n",
        "set2 = {\"google\", \"microsoft\", \"apple\"}\n",
        "set1.difference_update(set2)\n",
        "print(set1)"
      ],
      "metadata": {
        "colab": {
          "base_uri": "https://localhost:8080/"
        },
        "id": "_zRbpwIdNHLw",
        "outputId": "d29cf02a-e83b-4149-9a92-98565f20d0ea"
      },
      "execution_count": 61,
      "outputs": [
        {
          "output_type": "stream",
          "name": "stdout",
          "text": [
            "{'banana', 'cherry'}\n"
          ]
        }
      ]
    },
    {
      "cell_type": "code",
      "source": [
        "# - operator only allows you to join sets with sets, and not with other data types\n",
        "# diƯerence_update method will also keep the items from the ﬁrst set\n",
        "# that are not in the other set, but it will change the original set\n",
        "# instead of returning a new set.\n",
        "# OR we can say: keep the items that are not present in both sets\n",
        "set1 = {\"apple\", \"banana\", \"cherry\"}\n",
        "set2 = {\"google\", \"microsoft\", \"apple\"}\n",
        "set1.difference_update(set2)\n",
        "print(set1)"
      ],
      "metadata": {
        "colab": {
          "base_uri": "https://localhost:8080/"
        },
        "id": "uN33sVRYNKuk",
        "outputId": "7f550c71-2194-4094-dbdb-fcb948020ac7"
      },
      "execution_count": 62,
      "outputs": [
        {
          "output_type": "stream",
          "name": "stdout",
          "text": [
            "{'banana', 'cherry'}\n"
          ]
        }
      ]
    },
    {
      "cell_type": "code",
      "source": [
        "\n",
        "# symmetric_diƯerence() method\n",
        "# will keep only the elements that are NOT present in both sets.\n",
        "set1 = {\"apple\", \"banana\", \"cherry\"}\n",
        "set2 = {\"google\", \"microsoft\", \"apple\"}\n",
        "set3 = set1.symmetric_difference(set2)\n",
        "set4 = set1 ^ set2\n",
        "print(set3)\n",
        "print(set4)"
      ],
      "metadata": {
        "colab": {
          "base_uri": "https://localhost:8080/"
        },
        "id": "Wz8eUsKdNUUM",
        "outputId": "121e562b-d19b-4e9b-fa53-cb9ebec36100"
      },
      "execution_count": 63,
      "outputs": [
        {
          "output_type": "stream",
          "name": "stdout",
          "text": [
            "{'banana', 'google', 'microsoft', 'cherry'}\n",
            "{'banana', 'google', 'microsoft', 'cherry'}\n"
          ]
        }
      ]
    },
    {
      "cell_type": "code",
      "source": [
        "\n",
        "# ^ operator only allows you to join sets with sets, and not with other data types\n",
        "# symmetric_diƯerence_update() method to keep the items that are not present in both sets:\n",
        "set1 = {\"apple\", \"banana\", \"cherry\"}\n",
        "set2 = {\"google\", \"microsoft\", \"apple\"}\n",
        "set1.symmetric_difference_update(set2)\n",
        "print(set1)"
      ],
      "metadata": {
        "colab": {
          "base_uri": "https://localhost:8080/"
        },
        "id": "lqLV5_O2NZW3",
        "outputId": "e09db44f-7fda-40dc-bb01-a92f71a20023"
      },
      "execution_count": 66,
      "outputs": [
        {
          "output_type": "stream",
          "name": "stdout",
          "text": [
            "{'banana', 'google', 'microsoft', 'cherry'}\n"
          ]
        }
      ]
    },
    {
      "cell_type": "code",
      "source": [
        "\n",
        "# Access Dictionary Items\n",
        "car = {\n",
        "\"brand\": \"Ford\",\n",
        "\"model\": \"Mustang\",\n",
        "\"year\": 1964\n",
        "}\n",
        "print(car[\"model\"])\n",
        "print(car.get(\"model\"))\n",
        "x = car.keys()\n",
        "print(x) #before the change\n",
        "car[\"color\"] = \"white\"\n",
        "print(x) #after the change\n",
        "# Values"
      ],
      "metadata": {
        "colab": {
          "base_uri": "https://localhost:8080/"
        },
        "id": "bYCPa92IOkJ1",
        "outputId": "a0e86496-8418-4d2d-a9da-9311c431df77"
      },
      "execution_count": 67,
      "outputs": [
        {
          "output_type": "stream",
          "name": "stdout",
          "text": [
            "Mustang\n",
            "Mustang\n",
            "dict_keys(['brand', 'model', 'year'])\n",
            "dict_keys(['brand', 'model', 'year', 'color'])\n"
          ]
        }
      ]
    },
    {
      "cell_type": "code",
      "source": [
        "\n",
        "car = {\n",
        "\"brand\": \"Ford\",\n",
        "\"model\": \"Mustang\",\n",
        "\"year\": 1964\n",
        "}\n",
        "x = car.values()\n",
        "print(x) #before the change\n",
        "car[\"year\"] = 2020\n",
        "print(x) #after the change in value\n",
        "car[\"color\"] = \"red\"\n",
        "print(x) #after the change in key and value"
      ],
      "metadata": {
        "colab": {
          "base_uri": "https://localhost:8080/"
        },
        "id": "Mu4-ICI3OnvP",
        "outputId": "048abc7a-1922-428b-cc8d-f1f1a8846b8a"
      },
      "execution_count": 68,
      "outputs": [
        {
          "output_type": "stream",
          "name": "stdout",
          "text": [
            "dict_values(['Ford', 'Mustang', 1964])\n",
            "dict_values(['Ford', 'Mustang', 2020])\n",
            "dict_values(['Ford', 'Mustang', 2020, 'red'])\n"
          ]
        }
      ]
    },
    {
      "cell_type": "code",
      "source": [
        "\n",
        "# items() method will return each item in a dictionary, as tuples in a list.\n",
        "car = {\n",
        "\"brand\": \"Ford\",\n",
        "\"model\": \"Mustang\",\n",
        "\"year\": 1964\n",
        "}\n",
        "x = car.items()\n",
        "print(x) #before the change\n",
        "car[\"year\"] = 2020\n",
        "print(x) #after the change in values\n",
        "car[\"color\"] = \"red\"\n",
        "print(x) #after the change in key and value"
      ],
      "metadata": {
        "colab": {
          "base_uri": "https://localhost:8080/"
        },
        "id": "bOqwsKUrOrUt",
        "outputId": "1b443737-dfa1-4152-da15-2a5dda61eb80"
      },
      "execution_count": 69,
      "outputs": [
        {
          "output_type": "stream",
          "name": "stdout",
          "text": [
            "dict_items([('brand', 'Ford'), ('model', 'Mustang'), ('year', 1964)])\n",
            "dict_items([('brand', 'Ford'), ('model', 'Mustang'), ('year', 2020)])\n",
            "dict_items([('brand', 'Ford'), ('model', 'Mustang'), ('year', 2020), ('color', 'red')])\n"
          ]
        }
      ]
    },
    {
      "cell_type": "code",
      "source": [
        "car = {\n",
        "\"brand\": \"Ford\",\n",
        "\"model\": \"Mustang\",\n",
        "\"year\": 1964\n",
        "}\n",
        "x = car.items()\n",
        "\n",
        "car[\"year\"] = 2020\n",
        "\n",
        "car[\"color\"] = \"red\"\n",
        "\n",
        "# check key exist or not\n",
        "if \"model\" in car:\n",
        " print(\"Yes, 'model' is one of the keys in dictionary\")\n",
        "# change of values and add values\n",
        "car.update({\"year\": 2020})\n",
        "print(car)\n",
        "print(car.items())\n",
        "car[\"year\"] = 2018\n",
        "print(car)\n",
        "car.update({\"type\": \"AMT\"})\n",
        "print(car.items())"
      ],
      "metadata": {
        "colab": {
          "base_uri": "https://localhost:8080/"
        },
        "id": "BD39xu8MO-2e",
        "outputId": "d2964d60-8570-4805-b0f4-12a7f6fa3087"
      },
      "execution_count": 73,
      "outputs": [
        {
          "output_type": "stream",
          "name": "stdout",
          "text": [
            "Yes, 'model' is one of the keys in dictionary\n",
            "{'brand': 'Ford', 'model': 'Mustang', 'year': 2020, 'color': 'red'}\n",
            "dict_items([('brand', 'Ford'), ('model', 'Mustang'), ('year', 2020), ('color', 'red')])\n",
            "{'brand': 'Ford', 'model': 'Mustang', 'year': 2018, 'color': 'red'}\n",
            "dict_items([('brand', 'Ford'), ('model', 'Mustang'), ('year', 2018), ('color', 'red'), ('type', 'AMT')])\n"
          ]
        }
      ]
    },
    {
      "cell_type": "code",
      "source": [
        "car = {\n",
        "\"brand\": \"Ford\",\n",
        "\"model\": \"Mustang\",\n",
        "\"year\": 1964\n",
        "}\n",
        "x = car.items()\n",
        "\n",
        "car[\"year\"] = 2020\n",
        "\n",
        "car[\"color\"] = \"red\"\n",
        "\n",
        "\n",
        "# change of values and add values\n",
        "car.update({\"year\": 2020})\n",
        "\n",
        "print(car.items())\n",
        "car[\"year\"] = 2018\n",
        "print(car)\n",
        "car.update({\"type\": \"AMT\"})\n",
        "\n",
        "# Remove item\n",
        "car.pop(\"model\")\n",
        "print(car)\n",
        "car.popitem()\n",
        "print(car)\n",
        "del car[\"model\"]# already deleted in model thats why error\n",
        "print(car)\n",
        "# Copy a Dictionary\n",
        "newcar = car.copy()\n",
        "print(newcar)\n",
        "newcar = dict(car)\n",
        "print(newcar)"
      ],
      "metadata": {
        "colab": {
          "base_uri": "https://localhost:8080/",
          "height": 280
        },
        "id": "6qYcZa3APWpz",
        "outputId": "e529aaff-b9b2-433e-8996-ff3629368e61"
      },
      "execution_count": 74,
      "outputs": [
        {
          "output_type": "stream",
          "name": "stdout",
          "text": [
            "dict_items([('brand', 'Ford'), ('model', 'Mustang'), ('year', 2020), ('color', 'red')])\n",
            "{'brand': 'Ford', 'model': 'Mustang', 'year': 2018, 'color': 'red'}\n",
            "{'brand': 'Ford', 'year': 2018, 'color': 'red', 'type': 'AMT'}\n",
            "{'brand': 'Ford', 'year': 2018, 'color': 'red'}\n"
          ]
        },
        {
          "output_type": "error",
          "ename": "KeyError",
          "evalue": "'model'",
          "traceback": [
            "\u001b[0;31m---------------------------------------------------------------------------\u001b[0m",
            "\u001b[0;31mKeyError\u001b[0m                                  Traceback (most recent call last)",
            "\u001b[0;32m<ipython-input-74-0722bdfa74f8>\u001b[0m in \u001b[0;36m<cell line: 26>\u001b[0;34m()\u001b[0m\n\u001b[1;32m     24\u001b[0m \u001b[0mcar\u001b[0m\u001b[0;34m.\u001b[0m\u001b[0mpopitem\u001b[0m\u001b[0;34m(\u001b[0m\u001b[0;34m)\u001b[0m\u001b[0;34m\u001b[0m\u001b[0;34m\u001b[0m\u001b[0m\n\u001b[1;32m     25\u001b[0m \u001b[0mprint\u001b[0m\u001b[0;34m(\u001b[0m\u001b[0mcar\u001b[0m\u001b[0;34m)\u001b[0m\u001b[0;34m\u001b[0m\u001b[0;34m\u001b[0m\u001b[0m\n\u001b[0;32m---> 26\u001b[0;31m \u001b[0;32mdel\u001b[0m \u001b[0mcar\u001b[0m\u001b[0;34m[\u001b[0m\u001b[0;34m\"model\"\u001b[0m\u001b[0;34m]\u001b[0m\u001b[0;34m\u001b[0m\u001b[0;34m\u001b[0m\u001b[0m\n\u001b[0m\u001b[1;32m     27\u001b[0m \u001b[0mprint\u001b[0m\u001b[0;34m(\u001b[0m\u001b[0mcar\u001b[0m\u001b[0;34m)\u001b[0m\u001b[0;34m\u001b[0m\u001b[0;34m\u001b[0m\u001b[0m\n\u001b[1;32m     28\u001b[0m \u001b[0;31m# Copy a Dictionary\u001b[0m\u001b[0;34m\u001b[0m\u001b[0;34m\u001b[0m\u001b[0m\n",
            "\u001b[0;31mKeyError\u001b[0m: 'model'"
          ]
        }
      ]
    },
    {
      "cell_type": "code",
      "source": [
        "\n",
        "# Nested Dictionaries\n",
        "myfamily = {\n",
        "\"child1\" : {\n",
        "\"name\" : \"Emil\",\n",
        "\"year\" : 2004\n",
        "},\n",
        "\"child2\" : {\n",
        "\"name\" : \"Tobias\",\n",
        "\"year\" : 2007\n",
        "},\n",
        "\"child3\" : {\n",
        "\"name\" : \"Linus\",\n",
        "\"year\" : 2011\n",
        "}\n",
        "}\n",
        "print(myfamily)\n",
        "\n",
        "print(myfamily)\n",
        "print(myfamily[\"child2\"][\"name\"])\n",
        "# Loop Through Nested Dictionaries\n",
        "for x, obj in myfamily.items():\n",
        " print(x)\n",
        "for y in obj:\n",
        " print(y + ':', obj[y])"
      ],
      "metadata": {
        "colab": {
          "base_uri": "https://localhost:8080/"
        },
        "id": "J6t1EpiqRvfX",
        "outputId": "cd79b8f7-9413-49c0-9b2b-ebb25f4cee8c"
      },
      "execution_count": 77,
      "outputs": [
        {
          "output_type": "stream",
          "name": "stdout",
          "text": [
            "{'child1': {'name': 'Emil', 'year': 2004}, 'child2': {'name': 'Tobias', 'year': 2007}, 'child3': {'name': 'Linus', 'year': 2011}}\n",
            "{'child1': {'name': 'Emil', 'year': 2004}, 'child2': {'name': 'Tobias', 'year': 2007}, 'child3': {'name': 'Linus', 'year': 2011}}\n",
            "Tobias\n",
            "child1\n",
            "child2\n",
            "child3\n",
            "name: Linus\n",
            "year: 2011\n"
          ]
        }
      ]
    },
    {
      "cell_type": "code",
      "source": [
        "\n",
        "# Functions\n",
        "def fun():\n",
        " print(\"Hello from a function\")\n",
        "fun()\n",
        "def fun(fname):\n",
        " print(\"Hello \" + fname)\n",
        "fun(\"Emil\")\n",
        "fun(\"Tobias\")\n",
        "fun(\"Linus\")\n",
        "def fun(fname, lname):\n",
        " print(fname + \" \" + lname)\n",
        "fun(\"Emil\", \"Refsnes\")"
      ],
      "metadata": {
        "colab": {
          "base_uri": "https://localhost:8080/"
        },
        "id": "0ar5vOMDSOtq",
        "outputId": "d3f58eb5-460b-4aac-d846-a3d4a1605bfa"
      },
      "execution_count": 78,
      "outputs": [
        {
          "output_type": "stream",
          "name": "stdout",
          "text": [
            "Hello from a function\n",
            "Hello Emil\n",
            "Hello Tobias\n",
            "Hello Linus\n",
            "Emil Refsnes\n"
          ]
        }
      ]
    },
    {
      "cell_type": "code",
      "source": [
        "\n",
        "# if the number of arguments is unknown, add a * before the parameter name.\n",
        "def fun(*kids):\n",
        " print(\"The youngest child is \" + kids[1])\n",
        "fun(\"Emil\", \"Tobias\", \"Linus\")\n",
        "# Send arguments with the key = value syntax.\n",
        "def fun(child3, child2, child1):\n",
        " print(\"The youngest child is \" + child3)\n",
        "fun(child1 = \"Emil\", child2 = \"Tobias\", child3 = \"Linus\")"
      ],
      "metadata": {
        "colab": {
          "base_uri": "https://localhost:8080/"
        },
        "id": "hWy1VEKoSTGg",
        "outputId": "1df1b6c9-b705-47cc-af67-85f5ccc2427f"
      },
      "execution_count": 80,
      "outputs": [
        {
          "output_type": "stream",
          "name": "stdout",
          "text": [
            "The youngest child is Tobias\n",
            "The youngest child is Linus\n"
          ]
        }
      ]
    },
    {
      "cell_type": "code",
      "source": [
        "\n",
        "# If the number of keyword arguments is unknown, add a double ** before the parameter name:\n",
        "def fun(**kid):\n",
        " print(\"His last name is \" + kid[\"lname\"])\n",
        "fun(fname = \"Tobias\", lname = \"Refsnes\")\n",
        "# Default Parameter Value\n",
        "def fun(country = \"Norway\"):\n",
        " print(\"I am from \" + country)\n",
        "fun(\"Sweden\")\n",
        "fun(\"India\")\n",
        "fun()\n",
        "fun(\"Brazil\")"
      ],
      "metadata": {
        "colab": {
          "base_uri": "https://localhost:8080/"
        },
        "id": "ztj87OxZStcJ",
        "outputId": "42d73985-9b0b-4cf7-837a-986a82e70285"
      },
      "execution_count": 81,
      "outputs": [
        {
          "output_type": "stream",
          "name": "stdout",
          "text": [
            "His last name is Refsnes\n",
            "I am from Sweden\n",
            "I am from India\n",
            "I am from Norway\n",
            "I am from Brazil\n"
          ]
        }
      ]
    },
    {
      "cell_type": "code",
      "source": [
        "\n",
        "# Passing a List as an Argument\n",
        "def fun(food):\n",
        " for x in food:\n",
        "  print(x)\n",
        "fruits = [\"apple\", \"banana\", \"cherry\"]\n",
        "fun(fruits)\n",
        "# Return values\n",
        "def fun(x):\n",
        " return 5 * x\n",
        "print(fun(3))\n",
        "print(fun(5))\n",
        "print(fun(9))"
      ],
      "metadata": {
        "colab": {
          "base_uri": "https://localhost:8080/"
        },
        "id": "ZODDaD_kS80n",
        "outputId": "8b8c5ea3-1ccc-4a2c-d8a2-549dceac1134"
      },
      "execution_count": 82,
      "outputs": [
        {
          "output_type": "stream",
          "name": "stdout",
          "text": [
            "apple\n",
            "banana\n",
            "cherry\n",
            "15\n",
            "25\n",
            "45\n"
          ]
        }
      ]
    },
    {
      "cell_type": "code",
      "source": [
        "\n",
        "# A positional argument is a name that is not followed by an equal sign (=)\n",
        "# and default value. A keyword argument is followed by an equal sign\n",
        "# and an expression that gives its default value.\n",
        "# Keyword\n",
        "def nameAge(name, age):\n",
        " print(\"Hi, I am\", name)\n",
        " print(\"My age is \", age)\n",
        "nameAge(name=\"Prince\", age=20)\n",
        "nameAge(age=20, name=\"Prince\")\n"
      ],
      "metadata": {
        "colab": {
          "base_uri": "https://localhost:8080/"
        },
        "id": "fO6DrpSVTHJ4",
        "outputId": "7e8d6207-c8fe-4941-f1bb-1393816f3b00"
      },
      "execution_count": 86,
      "outputs": [
        {
          "output_type": "stream",
          "name": "stdout",
          "text": [
            "Hi, I am Prince\n",
            "My age is  20\n",
            "Hi, I am Prince\n",
            "My age is  20\n"
          ]
        }
      ]
    },
    {
      "cell_type": "code",
      "source": [
        "# Position\n",
        "def nameAge(name, age):\n",
        " print(\"Hi, I am\", name)\n",
        " print(\"My age is \", age)\n",
        "nameAge(\"Prince\", 20)\n",
        "nameAge(20, \"Prince\")"
      ],
      "metadata": {
        "colab": {
          "base_uri": "https://localhost:8080/"
        },
        "id": "6j1UZNzpTUhU",
        "outputId": "5b560db5-de61-4088-a562-72f0a87264f7"
      },
      "execution_count": 85,
      "outputs": [
        {
          "output_type": "stream",
          "name": "stdout",
          "text": [
            "Hi, I am Prince\n",
            "My age is  20\n",
            "Hi, I am 20\n",
            "My age is  Prince\n"
          ]
        }
      ]
    },
    {
      "cell_type": "code",
      "source": [
        "\n",
        "# Recursion\n",
        "def tri_recursion(k):\n",
        " if(k > 0):\n",
        "  result = k + tri_recursion(k - 1)\n",
        "  print(result)\n",
        " else:\n",
        "  result = 0\n",
        " return result\n",
        "print(\"\\n\\nRecursion Example Results\")\n",
        "tri_recursion(6)"
      ],
      "metadata": {
        "colab": {
          "base_uri": "https://localhost:8080/"
        },
        "id": "LIut-z7gTx1Y",
        "outputId": "cb8f7cf5-fffd-4f13-88ee-9bae69c466b1"
      },
      "execution_count": 89,
      "outputs": [
        {
          "output_type": "stream",
          "name": "stdout",
          "text": [
            "\n",
            "\n",
            "Recursion Example Results\n",
            "1\n",
            "3\n",
            "6\n",
            "10\n",
            "15\n",
            "21\n"
          ]
        },
        {
          "output_type": "execute_result",
          "data": {
            "text/plain": [
              "21"
            ]
          },
          "metadata": {},
          "execution_count": 89
        }
      ]
    },
    {
      "cell_type": "code",
      "source": [
        "#Lambda function is a small anonymous function.\n",
        "# It can take any number of arguments, but can only have one expression.\n",
        "x = lambda a : a + 10\n",
        "print(x(5))\n",
        "x = lambda a, b : a * b\n",
        "print(x(5, 6))"
      ],
      "metadata": {
        "colab": {
          "base_uri": "https://localhost:8080/"
        },
        "id": "AuFMo23uT7LC",
        "outputId": "58a2d65e-1e18-43d3-9c8c-125917f763d5"
      },
      "execution_count": 90,
      "outputs": [
        {
          "output_type": "stream",
          "name": "stdout",
          "text": [
            "15\n",
            "30\n"
          ]
        }
      ]
    },
    {
      "cell_type": "code",
      "source": [
        "\n",
        "#\n",
        "# The power of lambda is better shown when you use them as an anonymous function\n",
        "# inside another function.\n",
        "# a function deﬁnition that takes one argument, and that argument\n",
        "# will be multiplied with an unknown number.\n",
        "def myfunc(n):\n",
        " return lambda a : a * n\n",
        "mydoubler = myfunc(2)\n",
        "mytripler = myfunc(3)\n",
        "print(mydoubler(11))\n",
        "print(mytripler(11))"
      ],
      "metadata": {
        "colab": {
          "base_uri": "https://localhost:8080/"
        },
        "id": "eGyAuW7_MdQs",
        "outputId": "52bc9172-83bd-46a7-af2d-cd180f1a2c3b"
      },
      "execution_count": 91,
      "outputs": [
        {
          "output_type": "stream",
          "name": "stdout",
          "text": [
            "22\n",
            "33\n"
          ]
        }
      ]
    }
  ]
}